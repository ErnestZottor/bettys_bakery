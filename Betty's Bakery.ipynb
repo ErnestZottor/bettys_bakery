{
 "cells": [
  {
   "cell_type": "code",
   "execution_count": 3,
   "id": "d88c78b6",
   "metadata": {},
   "outputs": [],
   "source": [
    "import numpy as np\n"
   ]
  },
  {
   "cell_type": "code",
   "execution_count": 4,
   "id": "efd2690b",
   "metadata": {},
   "outputs": [
    {
     "name": "stdout",
     "output_type": "stream",
     "text": [
      "[[2.    0.75  2.    1.    0.5  ]\n",
      " [1.    0.125 1.    1.    0.125]\n",
      " [2.75  1.5   1.    0.    1.   ]\n",
      " [4.    0.5   2.    2.    0.5  ]]\n",
      "[6.75 3.   5.   2.   2.  ]\n"
     ]
    }
   ],
   "source": [
    "cupcakes = np.array([2, 0.75, 2, 1, 0.5])\n",
    "\n",
    "recipes = np.genfromtxt('recipes.csv', delimiter=',') \n",
    "print(recipes)\n",
    "eggs = recipes[:,2]\n",
    "\n",
    "one_egg = recipes[(eggs ==1)]\n",
    "cookies = recipes[2, :]\n",
    "\n",
    "double_batch = cupcakes * 2\n",
    "\n",
    "grocery_list = double_batch + cookies\n",
    "print(grocery_list)"
   ]
  },
  {
   "cell_type": "code",
   "execution_count": null,
   "id": "8370749a",
   "metadata": {},
   "outputs": [],
   "source": []
  }
 ],
 "metadata": {
  "kernelspec": {
   "display_name": "Python 3",
   "language": "python",
   "name": "python3"
  },
  "language_info": {
   "codemirror_mode": {
    "name": "ipython",
    "version": 3
   },
   "file_extension": ".py",
   "mimetype": "text/x-python",
   "name": "python",
   "nbconvert_exporter": "python",
   "pygments_lexer": "ipython3",
   "version": "3.8.8"
  }
 },
 "nbformat": 4,
 "nbformat_minor": 5
}
